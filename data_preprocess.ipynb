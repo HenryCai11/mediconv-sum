{
 "cells": [
  {
   "attachments": {},
   "cell_type": "markdown",
   "metadata": {},
   "source": [
    "我的csv文件里的'note'列里面有需要进行截断的文本，['CHIEF COMPLAINT',‘PAST SURGICAL HISTORY’,'REVIEW OF SYSTEMS','EMERGENCY DEPARTMENT COURSE','GYNECOLOGIC HISTORY','PAST MEDICAL HISTORY','HISTORY of PRESENT ILLNESS','FAMILY HISTORY/SOCIAL HISTORY']，当这些节标题出现的时候我需要对note里面的文本进行截断，以这些节标题作为key，以这些节标题后对应的文本为values,保存到字典中，最后以'encounter_id'列里对应的id存到json中"
   ]
  },
  {
   "cell_type": "code",
   "execution_count": 29,
   "metadata": {},
   "outputs": [],
   "source": [
    "import pandas as pd\n",
    "import json\n",
    "\n",
    "# 读取CSV文件\n",
    "data = pd.read_csv('./MEDIQA-Chat-Training-ValidationSets-Feb-10-2023/TaskB/TaskB-TrainingSet.csv')\n",
    "\n",
    "# 需要截断的节标题\n",
    "section_headers = ['CHIEF COMPLAINT','PAST SURGICAL HISTORY','REVIEW OF SYSTEMS','RESULTS','ASSESSMENT AND PLAN','EMERGENCY DEPARTMENT COURSE','GYNECOLOGIC HISTORY','PAST MEDICAL HISTORY','HISTORY OF PRESENT ILLNESS','FAMILY HISTORY/SOCIAL HISTORY','PHYSICAL EXAMINATION','VITALS REVIEWED']\n",
    "\n",
    "# 用来组成输出json的id列\n",
    "id_col = 'encounter_id'\n",
    "\n",
    "def split_text(text, keywords):\n",
    "    keyword_locations = {}\n",
    "    for keyword in keywords:\n",
    "        index = text.find(keyword)\n",
    "        if index != -1:\n",
    "            keyword_locations[keyword]=index\n",
    "        else:\n",
    "            keyword_locations[keyword]=len(text)\n",
    "    \n",
    "    keyword_locations = sorted(keyword_locations.items(), key=lambda d:d[1])\n",
    "    result = []\n",
    "    for i in range(len(keyword_locations)):\n",
    "        start = keyword_locations[i][1] + len(keyword_locations[i][0])\n",
    "        if i == len(keyword_locations)-1:\n",
    "            end = len(text)+1 \n",
    "        else:\n",
    "            end = keyword_locations[i+1][1]\n",
    "        if i == 0 and start != 0:\n",
    "            start = len(keyword_locations[i][0])+1\n",
    "           \n",
    "        result.append(text[start:end].strip())\n",
    "        \n",
    "    return keyword_locations,result\n",
    "\n",
    "\n",
    "# 初始化输出json对象\n",
    "output = []\n",
    "\n",
    "# 遍历每个encounter_id\n",
    "for id_value in data[id_col].unique():\n",
    "    # 创建该encounter_id对应的输出字典\n",
    "    encounter_dict = {}\n",
    "    \n",
    "    # 获取该encounter_id对应的行\n",
    "    encounter_rows = data[data[id_col] == id_value]\n",
    "    \n",
    "    # 遍历该encounter_id对应的所有行\n",
    "    for index, row in encounter_rows.iterrows():\n",
    "        # section_header = row['section_header']\n",
    "        note = row['note']\n",
    "        section_header=[]\n",
    "        for sec in section_headers:\n",
    "            if sec in note:\n",
    "                # print(sec)\n",
    "                section_header.append(sec)\n",
    "        # 判断该行是否包含需要截断的节标题\n",
    "        # if section_header in section_headers:\n",
    "        #     # 截断文本\n",
    "        #     note = note.split(section_header, 1)[-1]\n",
    "            \n",
    "        #     # 将截断后的文本以对应的节标题为key，添加到输出字典中\n",
    "        #     if section_header in encounter_dict:\n",
    "        #         encounter_dict[section_header] += note\n",
    "        #     else:\n",
    "        #         encounter_dict[section_header] = note\n",
    "        section_dict,res = split_text(keywords= section_header,text=note)\n",
    "        # print(res)\n",
    "        for i,sec in enumerate(section_dict):\n",
    "            # print(i)\n",
    "            encounter_dict[section_dict[i][0]]= res[i]\n",
    "    \n",
    "    # 将该encounter_id和对应的字典添加到输出json对象中\n",
    "    output.append({id_col: id_value, 'sections': encounter_dict})\n",
    "\n",
    "# 将输出json对象保存到文件中\n",
    "with open('output.json', 'w') as f:\n",
    "    json.dump(output, f)"
   ]
  }
 ],
 "metadata": {
  "kernelspec": {
   "display_name": "dia2note",
   "language": "python",
   "name": "python3"
  },
  "language_info": {
   "codemirror_mode": {
    "name": "ipython",
    "version": 3
   },
   "file_extension": ".py",
   "mimetype": "text/x-python",
   "name": "python",
   "nbconvert_exporter": "python",
   "pygments_lexer": "ipython3",
   "version": "3.9.16"
  },
  "orig_nbformat": 4,
  "vscode": {
   "interpreter": {
    "hash": "31c27fd85116cead093449143a69b82bfd3a5d8b2c8cf1f31800822541abbb48"
   }
  }
 },
 "nbformat": 4,
 "nbformat_minor": 2
}
